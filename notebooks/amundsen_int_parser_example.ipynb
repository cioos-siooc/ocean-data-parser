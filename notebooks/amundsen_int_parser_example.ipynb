{
 "cells": [
  {
   "cell_type": "code",
   "execution_count": null,
   "metadata": {},
   "outputs": [],
   "source": [
    "%pip install git+https://github.com/cioos-sioocean-data-parser.git"
   ]
  },
  {
   "attachments": {},
   "cell_type": "markdown",
   "metadata": {},
   "source": [
    "# Parse Amundsen INT to NetCDF"
   ]
  },
  {
   "cell_type": "code",
   "execution_count": null,
   "metadata": {},
   "outputs": [],
   "source": [
    "from ocean_data_parser.parsers import amundsen, utils\n",
    "from ocean_data_parser.metadata import pdc\n",
    "from glob import glob \n",
    "import logging\n",
    "import re\n",
    "\n",
    "logging.basicConfig(level=logging.WARNING)\n",
    "logger = logging.getLogger()"
   ]
  },
  {
   "attachments": {},
   "cell_type": "markdown",
   "metadata": {},
   "source": [
    "# Get the list of INT files"
   ]
  },
  {
   "cell_type": "code",
   "execution_count": 2,
   "metadata": {},
   "outputs": [
    {
     "name": "stdout",
     "output_type": "stream",
     "text": [
      "110 int files are available within:\n",
      "./../tests/parsers_test_files/amundsen//**/*.int\n"
     ]
    }
   ],
   "source": [
    "PATH_TO_INT = \"./../tests/parsers_test_files/amundsen/\"\n",
    "search_path = f\"{PATH_TO_INT}/**/*.int\"\n",
    "int_files = glob(search_path,recursive=True)\n",
    "print(f\"{len(int_files)} int files are available within:\\n{search_path}\")"
   ]
  },
  {
   "attachments": {},
   "cell_type": "markdown",
   "metadata": {},
   "source": [
    "# Convert INT files to NetCDF equivalent "
   ]
  },
  {
   "cell_type": "code",
   "execution_count": 10,
   "metadata": {},
   "outputs": [
    {
     "name": "stderr",
     "output_type": "stream",
     "text": [
      "WARNING:ocean_data_parser.parsers.amundsen:Line with missing variable mapping will be saved in unknown: % Fluorescence [ug/L]\n",
      "WARNING:ocean_data_parser.parsers.amundsen:No metadata was captured in the header of the INT file.\n",
      "WARNING:ocean_data_parser.parsers.amundsen:No metadata was captured in the header of the INT file.\n",
      "WARNING:ocean_data_parser.parsers.amundsen:No metadata was captured in the header of the INT file.\n",
      "WARNING:ocean_data_parser.parsers.amundsen:Ignore info.int files: ./../tests/parsers_test_files/amundsen/12716_Bioness/Amundsen_Bioness_CTD_v1/2013/2013_LEG_01/Bioness_2013001_info.int\n",
      "WARNING:ocean_data_parser.parsers.amundsen:Ignore info.int files: ./../tests/parsers_test_files/amundsen/12716_Bioness/Amundsen_Bioness_CTD_v1/2014/2014_LEG_01/Bioness_2014001_info.int\n",
      "WARNING:ocean_data_parser.parsers.amundsen:Ignore info.int files: ./../tests/parsers_test_files/amundsen/12716_Bioness/Amundsen_Bioness_CTD_v1/2016/2016_LEG_02/Bioness_2016002_info.int\n",
      "WARNING:ocean_data_parser.parsers.amundsen:Ignore info.int files: ./../tests/parsers_test_files/amundsen/12716_Bioness/Amundsen_Bioness_CTD_v1/2005/2005_LEG_02/Bioness_2005002_info.int\n"
     ]
    }
   ],
   "source": [
    "\n",
    "# Loop through each INT detected\n",
    "for file in int_files:\n",
    "    # Parse seabird \n",
    "    ds = amundsen.int_format(file)\n",
    "    if ds is None:\n",
    "        continue \n",
    "\n",
    "    # Get global attribute based on CCIN\n",
    "    ccin = re.search('amundsen/(\\d+)',file)\n",
    "    if ccin:\n",
    "        ds.attrs = pdc.fgdc_to_acdd(url=f\"https://www.polardata.ca/pdcsearch/xml/fgdc/{ccin[1]}_fgdc.xml\")\n",
    "    else:\n",
    "        logger.warning(\"Can't detect CCIN\")\n",
    "    \n",
    "    # Clean up dataset and fix common issues\n",
    "    ds = utils.standardize_dateset(ds)\n",
    "    ds.to_netcdf(f\"{file}_test.nc\")"
   ]
  }
 ],
 "metadata": {
  "interpreter": {
   "hash": "e71f2fc4339454d6614f3e4278dad8c9a334228a9944b8c319902e15f623c236"
  },
  "kernelspec": {
   "display_name": "Python 3.10.4",
   "language": "python",
   "name": "python3"
  },
  "language_info": {
   "codemirror_mode": {
    "name": "ipython",
    "version": 3
   },
   "file_extension": ".py",
   "mimetype": "text/x-python",
   "name": "python",
   "nbconvert_exporter": "python",
   "pygments_lexer": "ipython3",
   "version": "3.10.4"
  },
  "orig_nbformat": 4
 },
 "nbformat": 4,
 "nbformat_minor": 2
}
